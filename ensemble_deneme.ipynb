{
 "cells": [
  {
   "cell_type": "code",
   "execution_count": 2,
   "metadata": {},
   "outputs": [],
   "source": [
    "import pandas as pd\n",
    "\n",
    "import pickle\n",
    "import gzip\n",
    "import math\n",
    "\n",
    "\n",
    "from numpy.random import seed\n",
    "seed(1)\n",
    "import numpy as np"
   ]
  },
  {
   "cell_type": "code",
   "execution_count": 3,
   "metadata": {},
   "outputs": [
    {
     "name": "stdout",
     "output_type": "stream",
     "text": [
      "(367, 1032)\n",
      "['AATK' 'ABCA1' 'ABCA7' ... 'ZNHIT2' 'ZYX' 'GA']\n",
      "39.1\n",
      "(367, 1031)\n"
     ]
    }
   ],
   "source": [
    "from sklearn.utils import shuffle\n",
    "data = pd.read_csv(\"/home/isik/Desktop/dreamchallenge/1031genedata.csv\",index_col=0)\n",
    "print(data.shape)\n",
    "print(data.columns.values)\n",
    "data=shuffle(data)\n",
    "y_values=data['GA'].values\n",
    "print(y_values[0])\n",
    "\n",
    "data=data.drop(['GA'], axis=1)\n",
    "print(data.shape)"
   ]
  },
  {
   "cell_type": "code",
   "execution_count": 4,
   "metadata": {},
   "outputs": [
    {
     "name": "stdout",
     "output_type": "stream",
     "text": [
      "MSE: 31.8377\n",
      "MSE: 46.9144\n",
      "MSE: 48.9037\n",
      "MSE: 29.7008\n",
      "MSE: 31.2616\n",
      "ortalama mse\n",
      "37.72365275523717\n"
     ]
    }
   ],
   "source": [
    "fold=0\n",
    "ort_mse=0\n",
    "from numpy import genfromtxt\n",
    "from sklearn.metrics import mean_squared_error\n",
    "ort_mse=0\n",
    "for i in range(0, 367, 74):\n",
    "    if i == 296:\n",
    "        train_index_list = list(set(range(0, 367)) - set(range(i, i + 74)))\n",
    "        test_index_list = list(set(range(i, 367)))\n",
    "        data_train = data.iloc[train_index_list]\n",
    "        data_test = data.iloc[test_index_list]\n",
    "\n",
    "    else:\n",
    "        train_index_list = list(set(range(0, 367)) - set(range(i, i + 74)))\n",
    "        test_index_list = list(set(range(i, i + 74)))\n",
    "        data_train = data.iloc[train_index_list]\n",
    "        data_test = data.iloc[test_index_list]\n",
    "    y_train = y_values[train_index_list]\n",
    "    y_test = y_values[test_index_list]\n",
    "    y_fcnn=genfromtxt('1031HSICgen_NN_preds_fold_'+str(fold)+'.csv', delimiter=',')#42\n",
    "    y_xgb=genfromtxt('1031andHSIC_preds_fold_xgb_'+str(fold)+'.csv', delimiter=',')\n",
    "    y_lightgbm=genfromtxt('lgb/'+str(fold)+'.csv', delimiter=',')#\n",
    "    y_ridge=genfromtxt('ridge/'+str(fold)+'.csv',delimiter=',')\n",
    "    y_lightgbm=(y_lightgbm[1:,])#\n",
    "    y_ridge=(y_ridge[1:,])#\n",
    "    y_ens=(0.215*y_xgb)+(0.035*y_fcnn)+(0.6*y_ridge)+(0.15* y_lightgbm)\n",
    "    mse = mean_squared_error(y_test, y_ens)\n",
    "    ort_mse+=mse\n",
    "    fold=fold+1\n",
    "    print(\"MSE: %.4f\" % mse)\n",
    "    \n",
    "print(\"ortalama mse\")    \n",
    "print(ort_mse/5)"
   ]
  },
  {
   "cell_type": "code",
   "execution_count": null,
   "metadata": {},
   "outputs": [],
   "source": [
    "#y_ens=(0.25*y_xgb)+(0.25*y_fcnn)+(0.25*y_ridge)+(0.25* y_lightgbm) 39.922\n",
    "#"
   ]
  },
  {
   "cell_type": "markdown",
   "metadata": {},
   "source": [
    "y_ens=(0.25*y_xgb)+(0.3*y_fcnn)+(0.2*y_ridge)+(0.25* y_lightgbm)\n",
    "39.887050495084054"
   ]
  },
  {
   "cell_type": "markdown",
   "metadata": {},
   "source": [
    "y_ens=(0.35*y_xgb)+(0.3*y_fcnn)+(0.35* y_lightgbm)\n",
    "39.837870461585126"
   ]
  },
  {
   "cell_type": "markdown",
   "metadata": {},
   "source": [
    "y_ens=(0.36*y_xgb)+(0.29*y_fcnn)+(0.35* y_lightgbm)\n",
    "39.83511469323687"
   ]
  },
  {
   "cell_type": "markdown",
   "metadata": {},
   "source": [
    "y_ens=(0.365*y_xgb)+(0.285*y_fcnn)+(0.35* y_lightgbm)\n",
    "39.835031734248176"
   ]
  },
  {
   "cell_type": "markdown",
   "metadata": {},
   "source": [
    "\n",
    "y_ens=(0.215*y_xgb)+(0.235*y_fcnn)+(0.4*y_ridge)+(0.15* y_lightgbm)\n",
    "38.27837943909073"
   ]
  }
 ],
 "metadata": {
  "kernelspec": {
   "display_name": "Python 3",
   "language": "python",
   "name": "python3"
  },
  "language_info": {
   "codemirror_mode": {
    "name": "ipython",
    "version": 3
   },
   "file_extension": ".py",
   "mimetype": "text/x-python",
   "name": "python",
   "nbconvert_exporter": "python",
   "pygments_lexer": "ipython3",
   "version": "3.7.3"
  }
 },
 "nbformat": 4,
 "nbformat_minor": 2
}
