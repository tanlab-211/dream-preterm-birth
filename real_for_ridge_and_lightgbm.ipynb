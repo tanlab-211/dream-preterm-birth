{
 "cells": [
  {
   "cell_type": "code",
   "execution_count": 28,
   "metadata": {},
   "outputs": [],
   "source": [
    "import pandas as pd\n",
    "import sklearn\n",
    "import lightgbm as lgb\n",
    "from operator import itemgetter\n",
    "import optuna\n",
    "import numpy as np\n",
    "from sklearn.decomposition import *"
   ]
  },
  {
   "cell_type": "code",
   "execution_count": 69,
   "metadata": {
    "scrolled": true
   },
   "outputs": [],
   "source": [
    "train_data = pd.read_csv('1031andHSIC_train.csv')\n",
    "train_data.drop('Unnamed: 0',axis=1,inplace=True)\n",
    "test_data = pd.read_csv('1031andHSIC_test.csv')\n",
    "test_data.drop('Unnamed: 0',axis=1,inplace=True)"
   ]
  },
  {
   "cell_type": "code",
   "execution_count": 1,
   "metadata": {},
   "outputs": [],
   "source": [
    "import os\n",
    "try:\n",
    "    os.makedirs('predictions')\n",
    "except OSError:\n",
    "    pass"
   ]
  },
  {
   "cell_type": "code",
   "execution_count": 86,
   "metadata": {},
   "outputs": [],
   "source": [
    "param = {\n",
    "    'objective': 'regression',\n",
    "    'metric': 'l2',\n",
    "    'device': 'gpu',\n",
    "    'tree_learner':'voting',\n",
    "    'max_bin': 1000,\n",
    "    'boosting':'dart',\n",
    "    'n_estimators':2000,\n",
    "    'early_stopping_rounds':50,\n",
    "    'learning_rate': 0.1,\n",
    "    }\n",
    "y_values = train_data['GA']\n",
    "X = train_data.drop('GA',axis=1)\n",
    "\n",
    "dtrain = lgb.Dataset(X, label=y_values)\n",
    "\n",
    "reg = lgb.train(param, dtrain)\n",
    "y_preds = reg.predict(test_data)\n",
    "pd.DataFrame(y_preds).to_csv('predictions/Lightgbm_preds.csv',index=False)\n",
    "\n",
    "reg = sklearn.linear_model.Ridge(alpha=38)\n",
    "reg.fit(X,y_values)\n",
    "y_preds = reg.predict(test_data)\n",
    "pd.DataFrame(y_preds).to_csv('predictions/Ridge_preds.csv',index=False)\n",
    "    "
   ]
  },
  {
   "cell_type": "code",
   "execution_count": null,
   "metadata": {},
   "outputs": [],
   "source": [
    "param = {\n",
    "    'objective': 'regression',\n",
    "    'metric': 'l2',\n",
    "    'device': 'gpu',\n",
    "    'tree_learner':'voting',\n",
    "    'max_bin': 1000,\n",
    "#     'max_bin': 2000,\n",
    "    'boosting':'dart',\n",
    "#     'boosting':'goss',\n",
    "#     'boosting':'gbdt',\n",
    "    'n_estimators':2000,\n",
    "    'early_stopping_rounds':50,\n",
    "#         'max_depth':5,\n",
    "#         'num_leaves':31,\n",
    "    'learning_rate': 0.1,\n",
    "#     'learning_rate': 0.075,\n",
    "#         'l1_lambda':0.7,\n",
    "#         'l2_lambda':0.5,\n",
    "}\n",
    "dtrain = lgb.Dataset(X, label=y)\n",
    "gbm = lgb.cv(param, dtrain, stratified=False, seed=220, nfold=5,verbose_eval=True)\n",
    "print(gbm['l2-mean'])"
   ]
  }
 ],
 "metadata": {
  "kernelspec": {
   "display_name": "Python 3",
   "language": "python",
   "name": "python3"
  },
  "language_info": {
   "codemirror_mode": {
    "name": "ipython",
    "version": 3
   },
   "file_extension": ".py",
   "mimetype": "text/x-python",
   "name": "python",
   "nbconvert_exporter": "python",
   "pygments_lexer": "ipython3",
   "version": "3.7.3"
  }
 },
 "nbformat": 4,
 "nbformat_minor": 2
}
