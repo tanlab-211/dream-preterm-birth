{
 "cells": [
  {
   "cell_type": "code",
   "execution_count": 1,
   "metadata": {},
   "outputs": [],
   "source": [
    "import pandas as pd\n",
    "\n",
    "import pickle\n",
    "import gzip\n",
    "import math\n",
    "\n",
    "\n",
    "from numpy.random import seed\n",
    "seed(1)\n",
    "import numpy as np"
   ]
  },
  {
   "cell_type": "code",
   "execution_count": 3,
   "metadata": {},
   "outputs": [],
   "source": [
    "fold=0\n",
    "ort_mse=0\n",
    "from numpy import genfromtxt\n",
    "from sklearn.metrics import mean_squared_error\n",
    "y_fcnn=genfromtxt('1031HSICgen_NN_preds.csv', delimiter=',')#42\n",
    "y_xgb=genfromtxt('xgb_preds_test_1031HSICtest.csv', delimiter=',')\n",
    "y_lightgbm=genfromtxt('lgb.csv', delimiter=',')#\n",
    "y_ridge=genfromtxt('ridgebb.csv',delimiter=',')\n",
    "y_lightgbm=(y_lightgbm[1:,])#\n",
    "y_ridge=(y_ridge[1:,])#"
   ]
  },
  {
   "cell_type": "code",
   "execution_count": 4,
   "metadata": {},
   "outputs": [],
   "source": [
    "y_ens=(0.215*y_xgb)+(0.035*y_fcnn)+(0.6*y_ridge)+(0.15* y_lightgbm)\n"
   ]
  },
  {
   "cell_type": "code",
   "execution_count": 7,
   "metadata": {},
   "outputs": [],
   "source": [
    "pd.DataFrame(y_ens).to_csv(\"last_submission.csv\",index=False)"
   ]
  },
  {
   "cell_type": "code",
   "execution_count": 8,
   "metadata": {},
   "outputs": [],
   "source": [
    "last = pd.read_csv(\"last_submission.csv\")"
   ]
  },
  {
   "cell_type": "code",
   "execution_count": 9,
   "metadata": {},
   "outputs": [],
   "source": [
    "first = pd.read_csv(\"92gene_submission.csv\")"
   ]
  },
  {
   "cell_type": "code",
   "execution_count": 10,
   "metadata": {},
   "outputs": [
    {
     "data": {
      "text/plain": [
       "9.681798642274794"
      ]
     },
     "execution_count": 10,
     "metadata": {},
     "output_type": "execute_result"
    }
   ],
   "source": [
    "mean_squared_error(last[\"GA\"],first[\"GA\"])"
   ]
  }
 ],
 "metadata": {
  "kernelspec": {
   "display_name": "Python 3",
   "language": "python",
   "name": "python3"
  },
  "language_info": {
   "codemirror_mode": {
    "name": "ipython",
    "version": 3
   },
   "file_extension": ".py",
   "mimetype": "text/x-python",
   "name": "python",
   "nbconvert_exporter": "python",
   "pygments_lexer": "ipython3",
   "version": "3.7.3"
  }
 },
 "nbformat": 4,
 "nbformat_minor": 2
}
